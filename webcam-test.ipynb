{
 "cells": [
  {
   "cell_type": "code",
   "execution_count": null,
   "metadata": {},
   "outputs": [],
   "source": []
  }
 ],
 "metadata": {
  "interpreter": {
   "hash": "64ea4546c08905ad2ed44fa3c8f8aace2aa1d32309afd30730e8031ecc83c853"
  },
  "kernelspec": {
   "display_name": "Python 3.6.13 ('YOLO')",
   "language": "python",
   "name": "python3"
  },
  "language_info": {
   "name": "python",
   "version": "3.6.13"
  },
  "orig_nbformat": 4
 },
 "nbformat": 4,
 "nbformat_minor": 2
}
